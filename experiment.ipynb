{
 "cells": [
  {
   "cell_type": "code",
   "execution_count": 13,
   "id": "4af5f5b8",
   "metadata": {},
   "outputs": [
    {
     "data": {
      "text/plain": [
       "True"
      ]
     },
     "execution_count": 13,
     "metadata": {},
     "output_type": "execute_result"
    }
   ],
   "source": [
    "from langchain.llms import OpenAI\n",
    "from langchain.prompts import PromptTemplate\n",
    "from langchain.chains import LLMChain\n",
    "from langchain.chat_models import ChatOpenAI\n",
    "\n",
    "import os\n",
    "from dotenv import load_dotenv\n",
    "load_dotenv()\n",
    "\n",
    "\n",
    "#print(os.getenv(\"OPENAI_API_KEY\"))"
   ]
  },
  {
   "cell_type": "code",
   "execution_count": null,
   "id": "7ee8b3ea",
   "metadata": {},
   "outputs": [
    {
     "name": "stderr",
     "output_type": "stream",
     "text": [
      "C:\\Users\\abhis\\AppData\\Local\\Temp\\ipykernel_4500\\652995442.py:1: LangChainDeprecationWarning: The class `OpenAI` was deprecated in LangChain 0.0.10 and will be removed in 1.0. An updated version of the class exists in the :class:`~langchain-openai package and should be used instead. To use it run `pip install -U :class:`~langchain-openai` and import as `from :class:`~langchain_openai import OpenAI``.\n",
      "  llm = OpenAI(temperature=0.7)\n",
      "C:\\Users\\abhis\\AppData\\Local\\Temp\\ipykernel_4500\\652995442.py:7: LangChainDeprecationWarning: The class `LLMChain` was deprecated in LangChain 0.1.17 and will be removed in 1.0. Use :meth:`~RunnableSequence, e.g., `prompt | llm`` instead.\n",
      "  chain = LLMChain(llm=llm, prompt=prompt)\n",
      "C:\\Users\\abhis\\AppData\\Local\\Temp\\ipykernel_4500\\652995442.py:8: LangChainDeprecationWarning: The method `Chain.run` was deprecated in langchain 0.1.0 and will be removed in 1.0. Use :meth:`~invoke` instead.\n",
      "  print(chain.run(\"Mysuru\"))\n"
     ]
    },
    {
     "name": "stdout",
     "output_type": "stream",
     "text": [
      "\n",
      "\n",
      "Majestic palaces and vibrant streets,\n",
      "Mysuru, the city of grand retreats.\n",
      "With its rich culture and royal past,\n",
      "A charm that forever will last.\n",
      "\n",
      "The scent of jasmine in the air,\n",
      "A place where beauty is everywhere.\n",
      "From the bustling markets to the tranquil lakes,\n",
      "A city that my heart never forsakes.\n",
      "\n",
      "The melody of classical music fills the night,\n",
      "As the streets come alive in colorful lights.\n",
      "A fusion of old and new, tradition and trend,\n",
      "Mysuru, a city that will never bend.\n",
      "\n",
      "Oh Mysuru, how you captivate,\n",
      "With your grace and beauty, you fascinate.\n",
      "A city that I'll always hold dear,\n",
      "Mysuru, you have my heart, forever and near.\n"
     ]
    }
   ],
   "source": [
    "llm = OpenAI(temperature=0.7)\n",
    "prompt = PromptTemplate(\n",
    "    input_variables=[\"topic\"],\n",
    "    template=\"Write a short poem about {topic}.\"\n",
    ")\n",
    "\n",
    "chain = LLMChain(llm=llm, prompt=prompt)\n",
    "print(chain.run(\"ERP software\"))\n"
   ]
  },
  {
   "cell_type": "markdown",
   "id": "8b87a89c",
   "metadata": {},
   "source": [
    "Use PromptTemplate + LLMChain (Better Control)"
   ]
  },
  {
   "cell_type": "code",
   "execution_count": null,
   "id": "f47d11ff",
   "metadata": {},
   "outputs": [
    {
     "name": "stdout",
     "output_type": "stream",
     "text": [
      "\n",
      "LangChain is a term used to describe a series of connected languages that have a shared history and influence on each other. It can refer to a group of languages that developed from a common ancestor or to languages that have borrowed words and grammar rules from each other. Essentially, it is a way to describe how languages are related and how they have evolved over time.\n"
     ]
    }
   ],
   "source": [
    "prompt = PromptTemplate(\n",
    "    input_variables=[\"topic\"],\n",
    "    template=\"Explain {topic} in simple terms.\"\n",
    ")\n",
    "\n",
    "chain = LLMChain(llm=llm, prompt=prompt)\n",
    "\n",
    "print(chain.run(\"odoo\"))\n"
   ]
  },
  {
   "cell_type": "markdown",
   "id": "8b9b2c92",
   "metadata": {},
   "source": [
    "Different Model (like GPT-4)"
   ]
  },
  {
   "cell_type": "code",
   "execution_count": 6,
   "id": "3de42228",
   "metadata": {},
   "outputs": [
    {
     "name": "stderr",
     "output_type": "stream",
     "text": [
      "C:\\Users\\abhis\\AppData\\Local\\Temp\\ipykernel_4500\\908378301.py:6: LangChainDeprecationWarning: The class `ChatOpenAI` was deprecated in LangChain 0.0.10 and will be removed in 1.0. An updated version of the class exists in the :class:`~langchain-openai package and should be used instead. To use it run `pip install -U :class:`~langchain-openai` and import as `from :class:`~langchain_openai import ChatOpenAI``.\n",
      "  llm = ChatOpenAI(model_name=\"gpt-4\", temperature=0.5)\n"
     ]
    },
    {
     "name": "stdout",
     "output_type": "stream",
     "text": [
      "LangChain is a blockchain-based platform that aims to provide a fair and transparent translation service. It uses artificial intelligence and human translators to provide high-quality translations. The platform uses blockchain technology to ensure the security and reliability of the translations, and it also allows translators to be fairly compensated for their work. Users can pay for translations using the platform's own cryptocurrency, and they can also earn rewards for participating in the platform.\n"
     ]
    }
   ],
   "source": [
    "prompt = PromptTemplate(\n",
    "    input_variables=[\"topic\"],\n",
    "    template=\"Explain {topic} in simple terms.\",\n",
    ")\n",
    "\n",
    "llm = ChatOpenAI(model_name=\"gpt-4\", temperature=0.5)\n",
    "chain = LLMChain(llm=llm, prompt=prompt)\n",
    "\n",
    "print(chain.run(\"LangChain\"))\n"
   ]
  },
  {
   "cell_type": "markdown",
   "id": "44368e94",
   "metadata": {},
   "source": [
    "##### Create a Simple LLMChain\n",
    "\n",
    "What is an LLMChain?\n",
    "\n",
    "A chain in LangChain connects:\n",
    "\n",
    "A prompt\n",
    "\n",
    "An LLM\n",
    "\n",
    "(Optionally) tools, memory, or other inputs"
   ]
  },
  {
   "cell_type": "code",
   "execution_count": null,
   "id": "5341c970",
   "metadata": {},
   "outputs": [
    {
     "name": "stdout",
     "output_type": "stream",
     "text": [
      "\n",
      "Subject: Welcome to our team, Raj!\n",
      "\n",
      "Dear Raj,\n",
      "\n",
      "I am delighted to extend a warm welcome to you on behalf of our entire team at [Company Name]. We are thrilled to have you join us as our newest team member and look forward to working with you.\n",
      "\n",
      "We understand that starting a new job can be exciting and overwhelming at the same time. But, rest assured, we are here to support you every step of the way. Our team is known for its friendly and collaborative environment, and I am confident that you will feel right at home here.\n",
      "\n",
      "As the new [Position] at our company, your skills and expertise will be an invaluable asset to our team. We are excited to see the fresh perspective and ideas you will bring to the table.\n",
      "\n",
      "To help you settle in, we have assigned [Name], our senior [Position], as your buddy. [He/She] will be your go-to person for any questions or concerns you may have in your initial days with us. They will also introduce you to your team members and guide you through our company's culture, processes, and values.\n",
      "\n",
      "Your first day with us is on [Date], and we have a comprehensive orientation and onboarding plan in place to ensure a smooth transition. Please report to our HR\n"
     ]
    }
   ],
   "source": [
    "# 1. LLM Setup\n",
    "llm = OpenAI(temperature=0.7)\n",
    "\n",
    "# 2. Prompt Template\n",
    "prompt = PromptTemplate(\n",
    "    input_variables=[\"name\"],\n",
    "    template=\"Write a welcome email for a new employee named {name}.\"\n",
    ")\n",
    "\n",
    "# 3. Chain Construction\n",
    "chain = LLMChain(llm=llm, prompt=prompt)\n",
    "\n",
    "# 4. Run the Chain\n",
    "response = chain.run(\"Varun\")\n",
    "print(response)\n"
   ]
  },
  {
   "cell_type": "markdown",
   "id": "5593283e",
   "metadata": {},
   "source": [
    "This confirms that:\n",
    "\n",
    "✅ LangChain works\n",
    "\n",
    "✅ LLMChain is functional\n",
    "\n",
    "✅ Prompt → OpenAI → Output flow is successful"
   ]
  },
  {
   "cell_type": "markdown",
   "id": "d55e4c63",
   "metadata": {},
   "source": [
    "#### Add SequentialChain (Multiple LLMs or Steps)\n",
    "Let’s say we:\n",
    "\n",
    "First generate a job description\n",
    "\n",
    "Then write an email using that description"
   ]
  },
  {
   "cell_type": "code",
   "execution_count": 8,
   "id": "5c8f95fa",
   "metadata": {},
   "outputs": [
    {
     "name": "stdout",
     "output_type": "stream",
     "text": [
      "\n",
      "\n",
      "\u001b[1m> Entering new SimpleSequentialChain chain...\u001b[0m\n",
      "\u001b[36;1m\u001b[1;3m\n",
      "\n",
      "A DevOps Engineer is responsible for bridging the gap between development and operations teams in order to streamline the software delivery process. Some of the key responsibilities of a DevOps Engineer include:\n",
      "\n",
      "1. Collaborating with development and operations teams: A DevOps Engineer works closely with both development and operations teams to understand their needs and priorities. They act as a liaison between the two teams and ensure effective communication and collaboration.\n",
      "\n",
      "2. Automating software delivery: One of the key responsibilities of a DevOps Engineer is to automate the software delivery process. This includes automating build, testing, and deployment processes to improve efficiency and reduce errors.\n",
      "\n",
      "3. Managing infrastructure: A DevOps Engineer is responsible for managing the infrastructure that supports the software delivery process. This includes setting up and maintaining servers, databases, and other necessary tools and technologies.\n",
      "\n",
      "4. Implementing continuous integration and delivery: The DevOps Engineer is responsible for implementing continuous integration and delivery (CI/CD) practices. This involves continuously integrating code changes, running automated tests, and deploying code to production in a timely and efficient manner.\n",
      "\n",
      "5. Monitoring and troubleshooting: A DevOps Engineer is responsible for monitoring the performance and availability of the software and infrastructure. They also troubleshoot any issues that arise and work to resolve them quickly.\n",
      "\n",
      "6\u001b[0m\n",
      "\u001b[33;1m\u001b[1;3m. Keeping up with industry trends: A successful DevOps Engineer stays updated with the latest industry trends and implements them to continuously improve the software delivery process.\n",
      "\n",
      "Subject: Welcome to our team of DevOps Engineers!\n",
      "\n",
      "Dear [Name],\n",
      "\n",
      "Congratulations and welcome to our team of DevOps Engineers! We are thrilled to have you on board and are looking forward to working with you.\n",
      "\n",
      "Your role as a DevOps Engineer is crucial in bridging the gap between our development and operations teams. As a liaison between the two teams, you will play a key role in ensuring effective communication and collaboration. Your expertise in automating the software delivery process will help us improve efficiency and reduce errors.\n",
      "\n",
      "You will also be responsible for managing the infrastructure that supports our software delivery process, including setting up and maintaining servers, databases, and other necessary tools and technologies. Your knowledge of implementing continuous integration and delivery practices will help us continuously integrate code changes, run automated tests, and deploy code to production efficiently.\n",
      "\n",
      "In addition, as a DevOps Engineer, you will also be responsible for monitoring the performance and availability of our software and infrastructure. Your troubleshooting skills will be crucial in resolving any issues that may arise.\n",
      "\n",
      "We are confident that your experience and expertise will help us keep up with the latest industry trends and continuously improve our software\u001b[0m\n",
      "\n",
      "\u001b[1m> Finished chain.\u001b[0m\n",
      ". Keeping up with industry trends: A successful DevOps Engineer stays updated with the latest industry trends and implements them to continuously improve the software delivery process.\n",
      "\n",
      "Subject: Welcome to our team of DevOps Engineers!\n",
      "\n",
      "Dear [Name],\n",
      "\n",
      "Congratulations and welcome to our team of DevOps Engineers! We are thrilled to have you on board and are looking forward to working with you.\n",
      "\n",
      "Your role as a DevOps Engineer is crucial in bridging the gap between our development and operations teams. As a liaison between the two teams, you will play a key role in ensuring effective communication and collaboration. Your expertise in automating the software delivery process will help us improve efficiency and reduce errors.\n",
      "\n",
      "You will also be responsible for managing the infrastructure that supports our software delivery process, including setting up and maintaining servers, databases, and other necessary tools and technologies. Your knowledge of implementing continuous integration and delivery practices will help us continuously integrate code changes, run automated tests, and deploy code to production efficiently.\n",
      "\n",
      "In addition, as a DevOps Engineer, you will also be responsible for monitoring the performance and availability of our software and infrastructure. Your troubleshooting skills will be crucial in resolving any issues that may arise.\n",
      "\n",
      "We are confident that your experience and expertise will help us keep up with the latest industry trends and continuously improve our software\n"
     ]
    }
   ],
   "source": [
    "from langchain.chains import SimpleSequentialChain\n",
    "\n",
    "# First chain: Generate a job role description\n",
    "prompt1 = PromptTemplate(\n",
    "    input_variables=[\"role\"],\n",
    "    template=\"Describe the responsibilities of a {role}.\"\n",
    ")\n",
    "chain1 = LLMChain(llm=llm, prompt=prompt1)\n",
    "\n",
    "# Second chain: Create an email from the description\n",
    "prompt2 = PromptTemplate(\n",
    "    input_variables=[\"text\"],\n",
    "    template=\"Write a welcome email using this job description: {text}\"\n",
    ")\n",
    "chain2 = LLMChain(llm=llm, prompt=prompt2)\n",
    "\n",
    "# Combine using a Sequential Chain\n",
    "overall_chain = SimpleSequentialChain(chains=[chain1, chain2], verbose=True)\n",
    "\n",
    "output = overall_chain.run(\"DevOps Engineer\")\n",
    "print(output)\n"
   ]
  },
  {
   "cell_type": "markdown",
   "id": "704db083",
   "metadata": {},
   "source": [
    "## LangChain Agents & Tools\n",
    "\n",
    "LangChain Agents can:\n",
    "\n",
    "Think, decide, and act based on tools\n",
    "\n",
    "Perform multiple steps like calling an API, doing calculations, etc.\n",
    "\n",
    "Use LLM to choose which tool to use"
   ]
  },
  {
   "cell_type": "markdown",
   "id": "e2b4f8b1",
   "metadata": {},
   "source": [
    "### Tools : \n",
    "LangChain provides built-in tools like:\n",
    "\n",
    "DuckDuckGoSearchRun for searching the web\n",
    "\n",
    "LLMMathChain for math\n",
    "\n",
    "Custom tools (own Python functions)"
   ]
  },
  {
   "cell_type": "markdown",
   "id": "3be3eaee",
   "metadata": {},
   "source": [
    "DuckDuckGo + Math Tool"
   ]
  },
  {
   "cell_type": "code",
   "execution_count": null,
   "id": "e90a1da2",
   "metadata": {},
   "outputs": [
    {
     "ename": "ImportError",
     "evalue": "cannot import name 'DuckDuckGoSearchException' from 'duckduckgo_search' (c:\\Users\\abhis\\anaconda3\\envs\\langchain\\lib\\site-packages\\duckduckgo_search\\__init__.py)",
     "output_type": "error",
     "traceback": [
      "\u001b[1;31m---------------------------------------------------------------------------\u001b[0m",
      "\u001b[1;31mImportError\u001b[0m                               Traceback (most recent call last)",
      "Cell \u001b[1;32mIn[12], line 3\u001b[0m\n\u001b[0;32m      1\u001b[0m \u001b[38;5;28;01mfrom\u001b[39;00m\u001b[38;5;250m \u001b[39m\u001b[38;5;21;01mlangchain\u001b[39;00m\u001b[38;5;21;01m.\u001b[39;00m\u001b[38;5;21;01magents\u001b[39;00m\u001b[38;5;250m \u001b[39m\u001b[38;5;28;01mimport\u001b[39;00m initialize_agent, AgentType, Tool\n\u001b[0;32m      2\u001b[0m \u001b[38;5;28;01mfrom\u001b[39;00m\u001b[38;5;250m \u001b[39m\u001b[38;5;21;01mlangchain\u001b[39;00m\u001b[38;5;21;01m.\u001b[39;00m\u001b[38;5;21;01mtools\u001b[39;00m\u001b[38;5;250m \u001b[39m\u001b[38;5;28;01mimport\u001b[39;00m DuckDuckGoSearchResults\n\u001b[1;32m----> 3\u001b[0m \u001b[38;5;28;01mfrom\u001b[39;00m\u001b[38;5;250m \u001b[39m\u001b[38;5;21;01mduckduckgo_search\u001b[39;00m\u001b[38;5;250m \u001b[39m\u001b[38;5;28;01mimport\u001b[39;00m DuckDuckGoSearchException\n\u001b[0;32m      4\u001b[0m \u001b[38;5;28;01mfrom\u001b[39;00m\u001b[38;5;250m \u001b[39m\u001b[38;5;21;01mlangchain\u001b[39;00m\u001b[38;5;21;01m.\u001b[39;00m\u001b[38;5;21;01mllms\u001b[39;00m\u001b[38;5;250m \u001b[39m\u001b[38;5;28;01mimport\u001b[39;00m OpenAI\n\u001b[0;32m      5\u001b[0m \u001b[38;5;28;01mimport\u001b[39;00m\u001b[38;5;250m \u001b[39m\u001b[38;5;21;01mtime\u001b[39;00m\n",
      "\u001b[1;31mImportError\u001b[0m: cannot import name 'DuckDuckGoSearchException' from 'duckduckgo_search' (c:\\Users\\abhis\\anaconda3\\envs\\langchain\\lib\\site-packages\\duckduckgo_search\\__init__.py)"
     ]
    }
   ],
   "source": [
    "from langchain.agents import initialize_agent, AgentType, Tool\n",
    "from langchain.tools import DuckDuckGoSearchResults\n",
    "#from duckduckgo_search import DuckDuckGoSearchException\n",
    "from langchain.llms import OpenAI\n",
    "import time\n",
    "from langchain.memory import ConversationBufferMemory\n"
   ]
  },
  {
   "cell_type": "code",
   "execution_count": null,
   "id": "9ed26f27",
   "metadata": {},
   "outputs": [
    {
     "name": "stderr",
     "output_type": "stream",
     "text": [
      "C:\\Users\\abhis\\AppData\\Local\\Temp\\ipykernel_4500\\915132758.py:17: LangChainDeprecationWarning: LangChain agents will continue to be supported, but it is recommended for new use cases to be built with LangGraph. LangGraph offers a more flexible and full-featured framework for building agents, including support for tool-calling, persistence of state, and human-in-the-loop workflows. For details, refer to the `LangGraph documentation <https://langchain-ai.github.io/langgraph/>`_ as well as guides for `Migrating from AgentExecutor <https://python.langchain.com/docs/how_to/migrate_agent/>`_ and LangGraph's `Pre-built ReAct agent <https://langchain-ai.github.io/langgraph/how-tos/create-react-agent/>`_.\n",
      "  agent = initialize_agent(\n"
     ]
    },
    {
     "name": "stdout",
     "output_type": "stream",
     "text": [
      "\n",
      "\n",
      "\u001b[1m> Entering new AgentExecutor chain...\u001b[0m\n",
      "\u001b[32;1m\u001b[1;3m I should use DuckDuckGo Search to find this information.\n",
      "Action: DuckDuckGo Search\n",
      "Action Input: 'Karnataka capital and current weather'\u001b[0m\n",
      "Observation: \u001b[36;1m\u001b[1;3msnippet: In a recent update, the India Meteorological Department (IMD) has issued a rain alert for 12 districts in Karnataka. Bengaluru, the capital city, will receive heavy rain from March 23., title: Karnataka weather update: IMD issues rain forecast for 12 districts ..., link: https://timesofindia.indiatimes.com/life-style/travel/news/karnataka-weather-update-imd-issues-rain-forecast-for-12-districts-from-march-23/articleshow/119254598.cms, snippet: The temperature in Bangalore today in the early morning is 22 ° C.. If you take into account factors such as wind, humidity and other weather conditions, the temperatures can feel like 22 ° C.. The chance of rain in Bangalore in the morning is 0%, and the wind will blow at 10 km/h., title: Bangalore local weather (live): today, hourly weather, link: https://www.weather25.com/asia/india/karnataka/bangalore?page=today, snippet: Hotel, Bengaluru Urban, Karnataka (India), elevation 926 m Press to show information about this location. Forecast Forecast. ... Current conditions. Temperature 34 ° 34 ° Feels like 34 ° Precipitation 0 mm. 4 m/s gentle breeze from east 4 m/s. Table Graph. Weather forecast for the next 9 days. Night Morning Day Afternoon Evening. Temperature ..., title: Yr - Capitol (Bangalore) - Hourly weather forecast, link: https://www.yr.no/en/forecast/hourly-table/2-9958814/India/Karnataka/Bengaluru+Urban/Capitol+(Bangalore)?i=1, snippet: The weather department has not issued any alert for Karnataka's capital, Bengaluru. Bengaluru: The India Meteorological Department (IMD) has forecast heavy rainfall and hailstorms across more than 25 districts in Karnataka over the coming days., title: Karnataka Weather: IMD Issues Orange Alert for THESE ... - Times Now, link: https://www.timesnownews.com/bengaluru/bangalore-weather-imd-issues-orange-alert-for-karnataka-districts-hailstorms-and-heavy-rain-prediicted-article-151323978\u001b[0m\n",
      "Thought:\u001b[32;1m\u001b[1;3m I should check the sources and compare the information to get the most accurate answer.\n",
      "Action: DuckDuckGo Search\n",
      "Action Input: 'Karnataka capital and current weather sources'\u001b[0m\n",
      "Observation: \u001b[36;1m\u001b[1;3msnippet: N. Puviarasan, head of the Bengaluru Met Centre, attributed the rainfall to a trough extending from Lakshadweep to Konkan at 0.9 km above mean sea level, along with an upper-level deep westerly trough. This weather system created favourable conditions for rainfall in Coastal Karnataka, South Interior Karnataka, and parts of North Interior ..., title: Bangalore Weather: City Sees Drop In Temperatures After ... - Times Now, link: https://www.timesnownews.com/bengaluru/karnataka-rains-bangalore-rains-karnataka-rainscity-sees-pre-monsoon-rains-after-prolonged-dry-spell-how-long-with-the-showers-last-se-imd-forecast-article-151344583, snippet: Karnataka Weather Alert: Bengaluru and several parts of Karnataka witnessed heavy rainfall, hailstorms, and strong winds, causing tree collapses, power disruptions, and traffic jams. IMD predicts ..., title: Karnataka Weather Alert: IMD Forecasts Continued Rain in ... - Oneindia, link: https://www.oneindia.com/bengaluru/karnataka-weather-alert-imd-forecasts-continued-rain-in-karnataka-check-which-districts-will-be-a-4102701.html, snippet: Karnataka's capital recorded 89 percent humidity on November 30. In the wake of cyclone Fengal progressing towards Mahabalipuram in Tamil Nadu, IMD has forecasted cloudy weather in Bengaluru and ..., title: Cyclone Fengal: Orange alert for Karnataka, Bengaluru braces for ... - Mint, link: https://www.livemint.com/news/india/bengaluru-rains-karnatakas-capital-braces-weeklong-showers-weather-orange-alert-as-cyclone-fengal-heads-for-landfall-11732970866559.html, snippet: Current Rainfall; Floods; FVA; ... Weather Data Updated Every 24 Hrs. Archives. Reports. Tweets by KarnatakaSNDMC. ... Forecast. Rainfall Forecast. Flood Forecast. Forecast Archives. Feedback. Upload Image. Sign-In. Archives . Karnataka State Natural Disaster Monitoring Centre KSNDMC. Total Visitors : 5788457 Last Time Visited : 05-11-2025 01: ..., title: Welcome to Bengaluru VarunaMitra - Karnataka, link: https://varunamitra.karnataka.gov.in/Default/Index?service=RainForecast\u001b[0m\n",
      "Thought:\u001b[32;1m\u001b[1;3m I now know that the capital of Karnataka is Bengaluru and its current weather is rainy with a chance of hailstorms.\n",
      "Final Answer: The capital of Karnataka is Bengaluru and its current weather is rainy with a chance of hailstorms.\u001b[0m\n",
      "\n",
      "\u001b[1m> Finished chain.\u001b[0m\n",
      "The capital of Karnataka is Bengaluru and its current weather is rainy with a chance of hailstorms.\n"
     ]
    }
   ],
   "source": [
    "def run_agent_with_retry(agent, query, retries=3, delay=10):  # Increased delay to 10 seconds\n",
    "    for attempt in range(retries):\n",
    "        try:\n",
    "            return agent.run(query)\n",
    "        except DuckDuckGoSearchException as e:\n",
    "            print(f\"Rate limit exceeded, retrying... ({attempt + 1}/{retries})\")\n",
    "            time.sleep(delay)  # Wait before retrying\n",
    "    raise Exception(\"Max retries exceeded, failed to complete the task.\")"
   ]
  },
  {
   "cell_type": "markdown",
   "id": "e57bd198",
   "metadata": {},
   "source": [
    "Using Cached Results for Testing"
   ]
  },
  {
   "cell_type": "code",
   "execution_count": null,
   "id": "5da4677e",
   "metadata": {},
   "outputs": [],
   "source": [
    "class MockDuckDuckGoSearchTool:\n",
    "    def run(self, query):\n",
    "        return \"The companies workinf for odoo in Bengaluru.\"\n",
    "\n",
    "# Use the mock tool for testing\n",
    "mock_search = MockDuckDuckGoSearchTool()\n",
    "\n",
    "tools = [\n",
    "    Tool(\n",
    "        name=\"Mock DuckDuckGo Search\",\n",
    "        func=mock_search.run,\n",
    "        description=\"Returns mocked results for testing.\"\n",
    "    )\n",
    "]\n",
    "\n",
    "# Initialize the agent using the tools and LLM\n",
    "agent = initialize_agent(\n",
    "    tools,                   \n",
    "    llm,                     \n",
    "    agent_type=AgentType.ZERO_SHOT_REACT_DESCRIPTION,  \n",
    "    verbose=True\n",
    ")\n",
    "\n",
    "# Run the agent with mocked data\n",
    "response = agent.run(\"What is odoo?\")\n",
    "print(response)\n"
   ]
  },
  {
   "cell_type": "markdown",
   "id": "316552c2",
   "metadata": {},
   "source": [
    "Retry mechanism: Add retries to handle rate-limiting.\n",
    "\n",
    "Switch tools: Consider using a different search tool or a paid API.\n",
    "\n",
    "Mock data: Use mocked responses for testing if rate-limiting is a recurring problem."
   ]
  },
  {
   "cell_type": "markdown",
   "id": "cbd1c0d2",
   "metadata": {},
   "source": [
    "##### LangChain Memory"
   ]
  },
  {
   "cell_type": "markdown",
   "id": "8e762c0e",
   "metadata": {},
   "source": [
    "ConversationBufferMemory: Keeps all the previous interactions in the conversation.\n",
    "\n",
    "ConversationBufferWindowMemory: Keeps only a window (e.g., last 3 interactions) in the conversation."
   ]
  },
  {
   "cell_type": "code",
   "execution_count": null,
   "id": "62d7f494",
   "metadata": {},
   "outputs": [],
   "source": [
    "# Define the memory\n",
    "memory = ConversationBufferMemory(memory_key=\"chat_history\", return_messages=True)\n",
    "\n",
    "# Define the prompt template with input variable \"input\"\n",
    "prompt_template = \"\"\"\n",
    "You are a helpful assistant.\n",
    "{chat_history}\n",
    "User: {input}\n",
    "Assistant:\"\"\"\n",
    "\n",
    "prompt = PromptTemplate(\n",
    "    input_variables=[\"input\", \"chat_history\"],\n",
    "    template=prompt_template\n",
    ")\n",
    "\n",
    "# Define the chain\n",
    "llm = OpenAI(temperature=0.7)\n",
    "chain = LLMChain(llm=llm, prompt=prompt, memory=memory, verbose=True)\n",
    "\n",
    "# ✅ Interactions: you pass only the user input\n",
    "response_1 = chain.run(\"provide features of odoo18?\")\n",
    "print(\"Response 1:\", response_1)\n",
    "\n",
    "response_2 = chain.run(\"provide features of odoo17?\")\n",
    "print(\"Response 2:\", response_2)\n",
    "\n",
    "response_3 = chain.run(\"provide features of odoo16?\")\n",
    "print(\"Response 3:\", response_3)\n"
   ]
  },
  {
   "cell_type": "markdown",
   "id": "7525403a",
   "metadata": {},
   "source": [
    "Proof of Memory"
   ]
  },
  {
   "cell_type": "code",
   "execution_count": null,
   "id": "a07294b6",
   "metadata": {},
   "outputs": [],
   "source": [
    "print(memory.buffer)\n"
   ]
  },
  {
   "cell_type": "code",
   "execution_count": null,
   "id": "d58667e6",
   "metadata": {},
   "outputs": [],
   "source": [
    "print(memory.load_memory_variables({}))"
   ]
  },
  {
   "cell_type": "markdown",
   "id": "9f7a0638",
   "metadata": {},
   "source": [
    "#### Document Loading and Retrieval (RAG)"
   ]
  },
  {
   "cell_type": "code",
   "execution_count": null,
   "id": "79a5cc6d",
   "metadata": {},
   "outputs": [],
   "source": [
    "from langchain.document_loaders import TextLoader\n",
    "from langchain.text_splitter import CharacterTextSplitter\n",
    "from langchain.embeddings import OpenAIEmbeddings\n",
    "from langchain.vectorstores import FAISS\n",
    "from langchain.chains import RetrievalQA"
   ]
  },
  {
   "cell_type": "code",
   "execution_count": null,
   "id": "00b7fd76",
   "metadata": {},
   "outputs": [],
   "source": [
    "loader = TextLoader(\"sample.txt\")\n",
    "documents = loader.load()\n",
    "print(documents[0].page_content)\n"
   ]
  },
  {
   "cell_type": "code",
   "execution_count": null,
   "id": "388a80d6",
   "metadata": {},
   "outputs": [],
   "source": [
    "splitter = CharacterTextSplitter(chunk_size=100, chunk_overlap=10)\n",
    "docs = splitter.split_documents(documents)\n"
   ]
  },
  {
   "cell_type": "code",
   "execution_count": null,
   "id": "7da2f8c8",
   "metadata": {},
   "outputs": [],
   "source": [
    "embedding_model = OpenAIEmbeddings()\n",
    "db = FAISS.from_documents(docs, embedding_model)\n"
   ]
  },
  {
   "cell_type": "code",
   "execution_count": null,
   "id": "22e70d14",
   "metadata": {},
   "outputs": [],
   "source": [
    "retriever = db.as_retriever()\n",
    "qa_chain = RetrievalQA.from_chain_type(llm=OpenAI(), retriever=retriever)\n",
    "\n",
    "query = \"who we are, what we are doing?\"\n",
    "response = qa_chain.run(query)\n",
    "print(response)\n"
   ]
  }
 ],
 "metadata": {
  "kernelspec": {
   "display_name": "langchain",
   "language": "python",
   "name": "python3"
  },
  "language_info": {
   "codemirror_mode": {
    "name": "ipython",
    "version": 3
   },
   "file_extension": ".py",
   "mimetype": "text/x-python",
   "name": "python",
   "nbconvert_exporter": "python",
   "pygments_lexer": "ipython3",
   "version": "3.10.16"
  }
 },
 "nbformat": 4,
 "nbformat_minor": 5
}
