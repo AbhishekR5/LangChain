{
 "cells": [
  {
   "cell_type": "markdown",
   "id": "53bd5250",
   "metadata": {},
   "source": [
    "# Multi-Agent Systems"
   ]
  },
  {
   "cell_type": "markdown",
   "id": "cc0e5d67",
   "metadata": {},
   "source": [
    "#### Architecture\n",
    "Controller Agent – assigns tasks\n",
    "\n",
    "Worker Agents – specialists (e.g., DataAgent, CodeAgent, ResearchAgent)\n",
    "\n",
    "Shared Memory – database, in-memory store, or even natural language"
   ]
  },
  {
   "cell_type": "code",
   "execution_count": 1,
   "id": "7327bb30",
   "metadata": {},
   "outputs": [],
   "source": [
    "from langchain.chat_models import ChatOpenAI\n",
    "from langchain.prompts import ChatPromptTemplate\n",
    "from langgraph.graph import StateGraph, END\n"
   ]
  },
  {
   "cell_type": "code",
   "execution_count": 2,
   "id": "b6bfae39",
   "metadata": {},
   "outputs": [],
   "source": [
    "from typing import TypedDict\n",
    "\n",
    "class CodeState(TypedDict):\n",
    "    user_input: str\n",
    "    code: str\n",
    "    review: str\n"
   ]
  },
  {
   "cell_type": "markdown",
   "id": "0b89b7f8",
   "metadata": {},
   "source": [
    "Code Generator Agent"
   ]
  },
  {
   "cell_type": "code",
   "execution_count": 3,
   "id": "a65833d4",
   "metadata": {},
   "outputs": [],
   "source": [
    "def code_agent(state: CodeState) -> CodeState:\n",
    "    prompt = ChatPromptTemplate.from_messages([\n",
    "        (\"system\", \"You are a helpful AI that writes Python code.\"),\n",
    "        (\"human\", \"Write code for the following task: {input}\")\n",
    "    ])\n",
    "    \n",
    "    chain = prompt | ChatOpenAI()\n",
    "    result = chain.invoke({\"input\": state[\"user_input\"]})\n",
    "    \n",
    "    return {**state, \"code\": result.content}\n"
   ]
  },
  {
   "cell_type": "markdown",
   "id": "e1409d86",
   "metadata": {},
   "source": [
    "QA Agent"
   ]
  },
  {
   "cell_type": "code",
   "execution_count": 4,
   "id": "ff1e4407",
   "metadata": {},
   "outputs": [],
   "source": [
    "def qa_agent(state: CodeState) -> CodeState:\n",
    "    prompt = ChatPromptTemplate.from_messages([\n",
    "        (\"system\", \"You are a code reviewer. Give suggestions or approve.\"),\n",
    "        (\"human\", \"Review this code:\\n{code}\")\n",
    "    ])\n",
    "    \n",
    "    chain = prompt | ChatOpenAI()\n",
    "    result = chain.invoke({\"code\": state[\"code\"]})\n",
    "    \n",
    "    return {**state, \"review\": result.content}\n"
   ]
  },
  {
   "cell_type": "markdown",
   "id": "d81c3f6f",
   "metadata": {},
   "source": [
    "Build the LangGraph Workflow"
   ]
  },
  {
   "cell_type": "code",
   "execution_count": 5,
   "id": "818e73ad",
   "metadata": {},
   "outputs": [],
   "source": [
    "builder = StateGraph(CodeState)\n",
    "\n",
    "# Add steps\n",
    "builder.add_node(\"coder\", code_agent)\n",
    "builder.add_node(\"qa\", qa_agent)\n",
    "\n",
    "# Define flow\n",
    "builder.set_entry_point(\"coder\")\n",
    "builder.add_edge(\"coder\", \"qa\")\n",
    "builder.add_edge(\"qa\", END)\n",
    "\n",
    "# Compile\n",
    "graph = builder.compile()\n"
   ]
  },
  {
   "cell_type": "markdown",
   "id": "e9263d04",
   "metadata": {},
   "source": [
    "Run the Graph"
   ]
  },
  {
   "cell_type": "code",
   "execution_count": 7,
   "id": "fef94704",
   "metadata": {},
   "outputs": [
    {
     "name": "stdout",
     "output_type": "stream",
     "text": [
      "🧾 Generated Code:\n",
      " Sure! Here is an example code snippet that creates an AWS EC2 instance using the boto3 library in Python:\n",
      "\n",
      "```python\n",
      "import boto3\n",
      "\n",
      "# Configure the AWS credentials\n",
      "aws_access_key_id = 'YOUR_ACCESS_KEY_ID'\n",
      "aws_secret_access_key = 'YOUR_SECRET_ACCESS_KEY'\n",
      "region = 'us-west-2'\n",
      "\n",
      "# Create a new EC2 instance\n",
      "ec2 = boto3.resource('ec2',\n",
      "                     aws_access_key_id=aws_access_key_id,\n",
      "                     aws_secret_access_key=aws_secret_access_key,\n",
      "                     region_name=region)\n",
      "\n",
      "instance = ec2.create_instances(\n",
      "    ImageId='ami-0c55b159cbfafe1f0',\n",
      "    MinCount=1,\n",
      "    MaxCount=1,\n",
      "    InstanceType='t2.micro',\n",
      "    KeyName='YOUR_KEY_PAIR_NAME',\n",
      "    SecurityGroupIds=['YOUR_SECURITY_GROUP_ID'],\n",
      "    SubnetId='YOUR_SUBNET_ID'\n",
      ")\n",
      "\n",
      "print(\"Instance created:\", instance[0].id)\n",
      "```\n",
      "\n",
      "Make sure to replace the placeholders `YOUR_ACCESS_KEY_ID`, `YOUR_SECRET_ACCESS_KEY`, `YOUR_KEY_PAIR_NAME`, `YOUR_SECURITY_GROUP_ID`, and `YOUR_SUBNET_ID` with your actual AWS credentials and resource IDs. Also, make sure to provide the correct AMI ID for the `ImageId` parameter.\n",
      "\n",
      "🔍 QA Feedback:\n",
      " The code snippet provided is a basic example of creating an AWS EC2 instance using the boto3 library in Python. Here are some suggestions for improvement:\n",
      "\n",
      "1. **Security:** Avoid hardcoding AWS access keys and secret keys directly in the code. Instead, consider using environment variables, AWS credentials file, or AWS Identity and Access Management (IAM) roles for better security.\n",
      "\n",
      "2. **Error Handling:** Add error handling to catch exceptions that may occur during the creation of the EC2 instance. This will help in handling failures gracefully.\n",
      "\n",
      "3. **Documentation:** Add comments to explain the purpose of the code, especially for configuration settings and parameter values.\n",
      "\n",
      "4. **Parameterization:** Consider parameterizing the script so that it can be more flexible and reusable. You could pass in values for credentials, region, image ID, key pair name, security group ID, and subnet ID as arguments or read them from a configuration file.\n",
      "\n",
      "5. **Testing:** Test the code with the provided parameters to ensure that it creates the EC2 instance successfully. Make sure you have the necessary permissions in your AWS account to create EC2 instances.\n",
      "\n",
      "6. **Logging:** Consider adding logging statements to track the execution flow and any important information during the instance creation process.\n",
      "\n",
      "Overall, the code snippet looks fine for a basic demonstration, but it can be enhanced further for production use with the above suggestions.\n"
     ]
    }
   ],
   "source": [
    "result = graph.invoke({\"user_input\": \"create a python file to create aws ec2 instance using boto3\"})\n",
    "\n",
    "print(\"🧾 Generated Code:\\n\", result[\"code\"])\n",
    "print(\"\\n🔍 QA Feedback:\\n\", result[\"review\"])\n"
   ]
  },
  {
   "cell_type": "markdown",
   "id": "2a5e974e",
   "metadata": {},
   "source": [
    "### Next Ideas:\n",
    "\n",
    "Add a FixAgent to iterate based on review\n",
    "\n",
    "Log results to a database\n",
    "\n",
    "Use tool-using agents (e.g., one that runs the code with Python REPL)\n",
    "\n",
    "Add a human-in-the-loop UI for approvals\n",
    "\n"
   ]
  },
  {
   "cell_type": "code",
   "execution_count": null,
   "id": "95764328",
   "metadata": {},
   "outputs": [],
   "source": []
  }
 ],
 "metadata": {
  "kernelspec": {
   "display_name": "langchain",
   "language": "python",
   "name": "python3"
  },
  "language_info": {
   "codemirror_mode": {
    "name": "ipython",
    "version": 3
   },
   "file_extension": ".py",
   "mimetype": "text/x-python",
   "name": "python",
   "nbconvert_exporter": "python",
   "pygments_lexer": "ipython3",
   "version": "3.10.16"
  }
 },
 "nbformat": 4,
 "nbformat_minor": 5
}
